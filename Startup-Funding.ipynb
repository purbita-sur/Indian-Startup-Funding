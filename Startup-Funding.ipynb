{
 "cells": [
  {
   "cell_type": "code",
   "execution_count": 55,
   "metadata": {},
   "outputs": [],
   "source": [
    "import numpy as np\n",
    "import pandas as pd\n",
    "import matplotlib.pyplot as plt\n",
    "%matplotlib inline\n",
    "import seaborn as sns"
   ]
  },
  {
   "cell_type": "code",
   "execution_count": 56,
   "metadata": {},
   "outputs": [],
   "source": [
    "startup=pd.read_csv('startup_funding.csv')"
   ]
  },
  {
   "cell_type": "markdown",
   "metadata": {},
   "source": [
    "# Assessing Data"
   ]
  },
  {
   "cell_type": "code",
   "execution_count": 57,
   "metadata": {},
   "outputs": [
    {
     "data": {
      "text/html": [
       "<div>\n",
       "<style scoped>\n",
       "    .dataframe tbody tr th:only-of-type {\n",
       "        vertical-align: middle;\n",
       "    }\n",
       "\n",
       "    .dataframe tbody tr th {\n",
       "        vertical-align: top;\n",
       "    }\n",
       "\n",
       "    .dataframe thead th {\n",
       "        text-align: right;\n",
       "    }\n",
       "</style>\n",
       "<table border=\"1\" class=\"dataframe\">\n",
       "  <thead>\n",
       "    <tr style=\"text-align: right;\">\n",
       "      <th></th>\n",
       "      <th>SNo</th>\n",
       "      <th>Date</th>\n",
       "      <th>StartupName</th>\n",
       "      <th>IndustryVertical</th>\n",
       "      <th>SubVertical</th>\n",
       "      <th>CityLocation</th>\n",
       "      <th>InvestorsName</th>\n",
       "      <th>InvestmentType</th>\n",
       "      <th>AmountInUSD</th>\n",
       "      <th>Remarks</th>\n",
       "    </tr>\n",
       "  </thead>\n",
       "  <tbody>\n",
       "    <tr>\n",
       "      <th>0</th>\n",
       "      <td>0</td>\n",
       "      <td>01/08/2017</td>\n",
       "      <td>TouchKin</td>\n",
       "      <td>Technology</td>\n",
       "      <td>Predictive Care Platform</td>\n",
       "      <td>Bangalore</td>\n",
       "      <td>Kae Capital</td>\n",
       "      <td>Private Equity</td>\n",
       "      <td>1,300,000</td>\n",
       "      <td>NaN</td>\n",
       "    </tr>\n",
       "    <tr>\n",
       "      <th>1</th>\n",
       "      <td>1</td>\n",
       "      <td>02/08/2017</td>\n",
       "      <td>Ethinos</td>\n",
       "      <td>Technology</td>\n",
       "      <td>Digital Marketing Agency</td>\n",
       "      <td>Mumbai</td>\n",
       "      <td>Triton Investment Advisors</td>\n",
       "      <td>Private Equity</td>\n",
       "      <td>NaN</td>\n",
       "      <td>NaN</td>\n",
       "    </tr>\n",
       "    <tr>\n",
       "      <th>2</th>\n",
       "      <td>2</td>\n",
       "      <td>02/08/2017</td>\n",
       "      <td>Leverage Edu</td>\n",
       "      <td>Consumer Internet</td>\n",
       "      <td>Online platform for Higher Education Services</td>\n",
       "      <td>New Delhi</td>\n",
       "      <td>Kashyap Deorah, Anand Sankeshwar, Deepak Jain,...</td>\n",
       "      <td>Seed Funding</td>\n",
       "      <td>NaN</td>\n",
       "      <td>NaN</td>\n",
       "    </tr>\n",
       "    <tr>\n",
       "      <th>3</th>\n",
       "      <td>3</td>\n",
       "      <td>02/08/2017</td>\n",
       "      <td>Zepo</td>\n",
       "      <td>Consumer Internet</td>\n",
       "      <td>DIY Ecommerce platform</td>\n",
       "      <td>Mumbai</td>\n",
       "      <td>Kunal Shah, LetsVenture, Anupam Mittal, Hetal ...</td>\n",
       "      <td>Seed Funding</td>\n",
       "      <td>500,000</td>\n",
       "      <td>NaN</td>\n",
       "    </tr>\n",
       "    <tr>\n",
       "      <th>4</th>\n",
       "      <td>4</td>\n",
       "      <td>02/08/2017</td>\n",
       "      <td>Click2Clinic</td>\n",
       "      <td>Consumer Internet</td>\n",
       "      <td>healthcare service aggregator</td>\n",
       "      <td>Hyderabad</td>\n",
       "      <td>Narottam Thudi, Shireesh Palle</td>\n",
       "      <td>Seed Funding</td>\n",
       "      <td>850,000</td>\n",
       "      <td>NaN</td>\n",
       "    </tr>\n",
       "  </tbody>\n",
       "</table>\n",
       "</div>"
      ],
      "text/plain": [
       "   SNo        Date   StartupName   IndustryVertical  \\\n",
       "0    0  01/08/2017      TouchKin         Technology   \n",
       "1    1  02/08/2017       Ethinos         Technology   \n",
       "2    2  02/08/2017  Leverage Edu  Consumer Internet   \n",
       "3    3  02/08/2017          Zepo  Consumer Internet   \n",
       "4    4  02/08/2017  Click2Clinic  Consumer Internet   \n",
       "\n",
       "                                     SubVertical CityLocation  \\\n",
       "0                       Predictive Care Platform    Bangalore   \n",
       "1                       Digital Marketing Agency       Mumbai   \n",
       "2  Online platform for Higher Education Services    New Delhi   \n",
       "3                         DIY Ecommerce platform       Mumbai   \n",
       "4                  healthcare service aggregator    Hyderabad   \n",
       "\n",
       "                                       InvestorsName  InvestmentType  \\\n",
       "0                                        Kae Capital  Private Equity   \n",
       "1                         Triton Investment Advisors  Private Equity   \n",
       "2  Kashyap Deorah, Anand Sankeshwar, Deepak Jain,...    Seed Funding   \n",
       "3  Kunal Shah, LetsVenture, Anupam Mittal, Hetal ...    Seed Funding   \n",
       "4                     Narottam Thudi, Shireesh Palle    Seed Funding   \n",
       "\n",
       "  AmountInUSD Remarks  \n",
       "0   1,300,000     NaN  \n",
       "1         NaN     NaN  \n",
       "2         NaN     NaN  \n",
       "3     500,000     NaN  \n",
       "4     850,000     NaN  "
      ]
     },
     "execution_count": 57,
     "metadata": {},
     "output_type": "execute_result"
    }
   ],
   "source": [
    "startup.head()"
   ]
  },
  {
   "cell_type": "code",
   "execution_count": 58,
   "metadata": {},
   "outputs": [
    {
     "name": "stdout",
     "output_type": "stream",
     "text": [
      "<class 'pandas.core.frame.DataFrame'>\n",
      "RangeIndex: 2372 entries, 0 to 2371\n",
      "Data columns (total 10 columns):\n",
      "SNo                 2372 non-null int64\n",
      "Date                2372 non-null object\n",
      "StartupName         2372 non-null object\n",
      "IndustryVertical    2201 non-null object\n",
      "SubVertical         1436 non-null object\n",
      "CityLocation        2193 non-null object\n",
      "InvestorsName       2364 non-null object\n",
      "InvestmentType      2371 non-null object\n",
      "AmountInUSD         1525 non-null object\n",
      "Remarks             419 non-null object\n",
      "dtypes: int64(1), object(9)\n",
      "memory usage: 185.4+ KB\n"
     ]
    }
   ],
   "source": [
    "startup.info()"
   ]
  },
  {
   "cell_type": "code",
   "execution_count": 59,
   "metadata": {},
   "outputs": [
    {
     "data": {
      "text/plain": [
       "(2372, 10)"
      ]
     },
     "execution_count": 59,
     "metadata": {},
     "output_type": "execute_result"
    }
   ],
   "source": [
    "startup.shape"
   ]
  },
  {
   "cell_type": "code",
   "execution_count": 60,
   "metadata": {},
   "outputs": [
    {
     "data": {
      "text/html": [
       "<div>\n",
       "<style scoped>\n",
       "    .dataframe tbody tr th:only-of-type {\n",
       "        vertical-align: middle;\n",
       "    }\n",
       "\n",
       "    .dataframe tbody tr th {\n",
       "        vertical-align: top;\n",
       "    }\n",
       "\n",
       "    .dataframe thead th {\n",
       "        text-align: right;\n",
       "    }\n",
       "</style>\n",
       "<table border=\"1\" class=\"dataframe\">\n",
       "  <thead>\n",
       "    <tr style=\"text-align: right;\">\n",
       "      <th></th>\n",
       "      <th>Total</th>\n",
       "      <th>Percent</th>\n",
       "    </tr>\n",
       "  </thead>\n",
       "  <tbody>\n",
       "    <tr>\n",
       "      <th>Remarks</th>\n",
       "      <td>1953</td>\n",
       "      <td>82.335582</td>\n",
       "    </tr>\n",
       "    <tr>\n",
       "      <th>SubVertical</th>\n",
       "      <td>936</td>\n",
       "      <td>39.460371</td>\n",
       "    </tr>\n",
       "    <tr>\n",
       "      <th>AmountInUSD</th>\n",
       "      <td>847</td>\n",
       "      <td>35.708263</td>\n",
       "    </tr>\n",
       "    <tr>\n",
       "      <th>CityLocation</th>\n",
       "      <td>179</td>\n",
       "      <td>7.546374</td>\n",
       "    </tr>\n",
       "    <tr>\n",
       "      <th>IndustryVertical</th>\n",
       "      <td>171</td>\n",
       "      <td>7.209106</td>\n",
       "    </tr>\n",
       "    <tr>\n",
       "      <th>InvestorsName</th>\n",
       "      <td>8</td>\n",
       "      <td>0.337268</td>\n",
       "    </tr>\n",
       "    <tr>\n",
       "      <th>InvestmentType</th>\n",
       "      <td>1</td>\n",
       "      <td>0.042159</td>\n",
       "    </tr>\n",
       "    <tr>\n",
       "      <th>StartupName</th>\n",
       "      <td>0</td>\n",
       "      <td>0.000000</td>\n",
       "    </tr>\n",
       "    <tr>\n",
       "      <th>Date</th>\n",
       "      <td>0</td>\n",
       "      <td>0.000000</td>\n",
       "    </tr>\n",
       "    <tr>\n",
       "      <th>SNo</th>\n",
       "      <td>0</td>\n",
       "      <td>0.000000</td>\n",
       "    </tr>\n",
       "  </tbody>\n",
       "</table>\n",
       "</div>"
      ],
      "text/plain": [
       "                  Total    Percent\n",
       "Remarks            1953  82.335582\n",
       "SubVertical         936  39.460371\n",
       "AmountInUSD         847  35.708263\n",
       "CityLocation        179   7.546374\n",
       "IndustryVertical    171   7.209106\n",
       "InvestorsName         8   0.337268\n",
       "InvestmentType        1   0.042159\n",
       "StartupName           0   0.000000\n",
       "Date                  0   0.000000\n",
       "SNo                   0   0.000000"
      ]
     },
     "execution_count": 60,
     "metadata": {},
     "output_type": "execute_result"
    }
   ],
   "source": [
    "#checking for missing values\n",
    "total = startup.isnull().sum().sort_values(ascending = False)\n",
    "percent = ((startup.isnull().sum()/startup.isnull().count())*100).sort_values(ascending = False)\n",
    "missing_data = pd.concat([total, percent], axis=1, keys=['Total', 'Percent'])\n",
    "missing_data"
   ]
  },
  {
   "cell_type": "markdown",
   "metadata": {},
   "source": [
    "# Cleaning Data"
   ]
  },
  {
   "cell_type": "code",
   "execution_count": 61,
   "metadata": {},
   "outputs": [],
   "source": [
    "startup.drop(columns={'SNo','Remarks'},inplace=True)"
   ]
  },
  {
   "cell_type": "code",
   "execution_count": 62,
   "metadata": {},
   "outputs": [
    {
     "data": {
      "text/html": [
       "<div>\n",
       "<style scoped>\n",
       "    .dataframe tbody tr th:only-of-type {\n",
       "        vertical-align: middle;\n",
       "    }\n",
       "\n",
       "    .dataframe tbody tr th {\n",
       "        vertical-align: top;\n",
       "    }\n",
       "\n",
       "    .dataframe thead th {\n",
       "        text-align: right;\n",
       "    }\n",
       "</style>\n",
       "<table border=\"1\" class=\"dataframe\">\n",
       "  <thead>\n",
       "    <tr style=\"text-align: right;\">\n",
       "      <th></th>\n",
       "      <th>Date</th>\n",
       "      <th>StartupName</th>\n",
       "      <th>IndustryVertical</th>\n",
       "      <th>SubVertical</th>\n",
       "      <th>CityLocation</th>\n",
       "      <th>InvestorsName</th>\n",
       "      <th>InvestmentType</th>\n",
       "      <th>AmountInUSD</th>\n",
       "    </tr>\n",
       "  </thead>\n",
       "  <tbody>\n",
       "    <tr>\n",
       "      <th>0</th>\n",
       "      <td>01/08/2017</td>\n",
       "      <td>TouchKin</td>\n",
       "      <td>Technology</td>\n",
       "      <td>Predictive Care Platform</td>\n",
       "      <td>Bangalore</td>\n",
       "      <td>Kae Capital</td>\n",
       "      <td>Private Equity</td>\n",
       "      <td>1,300,000</td>\n",
       "    </tr>\n",
       "    <tr>\n",
       "      <th>1</th>\n",
       "      <td>02/08/2017</td>\n",
       "      <td>Ethinos</td>\n",
       "      <td>Technology</td>\n",
       "      <td>Digital Marketing Agency</td>\n",
       "      <td>Mumbai</td>\n",
       "      <td>Triton Investment Advisors</td>\n",
       "      <td>Private Equity</td>\n",
       "      <td>NaN</td>\n",
       "    </tr>\n",
       "    <tr>\n",
       "      <th>2</th>\n",
       "      <td>02/08/2017</td>\n",
       "      <td>Leverage Edu</td>\n",
       "      <td>Consumer Internet</td>\n",
       "      <td>Online platform for Higher Education Services</td>\n",
       "      <td>New Delhi</td>\n",
       "      <td>Kashyap Deorah, Anand Sankeshwar, Deepak Jain,...</td>\n",
       "      <td>Seed Funding</td>\n",
       "      <td>NaN</td>\n",
       "    </tr>\n",
       "    <tr>\n",
       "      <th>3</th>\n",
       "      <td>02/08/2017</td>\n",
       "      <td>Zepo</td>\n",
       "      <td>Consumer Internet</td>\n",
       "      <td>DIY Ecommerce platform</td>\n",
       "      <td>Mumbai</td>\n",
       "      <td>Kunal Shah, LetsVenture, Anupam Mittal, Hetal ...</td>\n",
       "      <td>Seed Funding</td>\n",
       "      <td>500,000</td>\n",
       "    </tr>\n",
       "    <tr>\n",
       "      <th>4</th>\n",
       "      <td>02/08/2017</td>\n",
       "      <td>Click2Clinic</td>\n",
       "      <td>Consumer Internet</td>\n",
       "      <td>healthcare service aggregator</td>\n",
       "      <td>Hyderabad</td>\n",
       "      <td>Narottam Thudi, Shireesh Palle</td>\n",
       "      <td>Seed Funding</td>\n",
       "      <td>850,000</td>\n",
       "    </tr>\n",
       "  </tbody>\n",
       "</table>\n",
       "</div>"
      ],
      "text/plain": [
       "         Date   StartupName   IndustryVertical  \\\n",
       "0  01/08/2017      TouchKin         Technology   \n",
       "1  02/08/2017       Ethinos         Technology   \n",
       "2  02/08/2017  Leverage Edu  Consumer Internet   \n",
       "3  02/08/2017          Zepo  Consumer Internet   \n",
       "4  02/08/2017  Click2Clinic  Consumer Internet   \n",
       "\n",
       "                                     SubVertical CityLocation  \\\n",
       "0                       Predictive Care Platform    Bangalore   \n",
       "1                       Digital Marketing Agency       Mumbai   \n",
       "2  Online platform for Higher Education Services    New Delhi   \n",
       "3                         DIY Ecommerce platform       Mumbai   \n",
       "4                  healthcare service aggregator    Hyderabad   \n",
       "\n",
       "                                       InvestorsName  InvestmentType  \\\n",
       "0                                        Kae Capital  Private Equity   \n",
       "1                         Triton Investment Advisors  Private Equity   \n",
       "2  Kashyap Deorah, Anand Sankeshwar, Deepak Jain,...    Seed Funding   \n",
       "3  Kunal Shah, LetsVenture, Anupam Mittal, Hetal ...    Seed Funding   \n",
       "4                     Narottam Thudi, Shireesh Palle    Seed Funding   \n",
       "\n",
       "  AmountInUSD  \n",
       "0   1,300,000  \n",
       "1         NaN  \n",
       "2         NaN  \n",
       "3     500,000  \n",
       "4     850,000  "
      ]
     },
     "execution_count": 62,
     "metadata": {},
     "output_type": "execute_result"
    }
   ],
   "source": [
    "startup.head()"
   ]
  },
  {
   "cell_type": "code",
   "execution_count": 63,
   "metadata": {},
   "outputs": [
    {
     "name": "stdout",
     "output_type": "stream",
     "text": [
      "<class 'pandas.core.frame.DataFrame'>\n",
      "RangeIndex: 2372 entries, 0 to 2371\n",
      "Data columns (total 8 columns):\n",
      "Date                2372 non-null object\n",
      "StartupName         2372 non-null object\n",
      "IndustryVertical    2201 non-null object\n",
      "SubVertical         1436 non-null object\n",
      "CityLocation        2193 non-null object\n",
      "InvestorsName       2364 non-null object\n",
      "InvestmentType      2371 non-null object\n",
      "AmountInUSD         1525 non-null object\n",
      "dtypes: object(8)\n",
      "memory usage: 148.3+ KB\n"
     ]
    }
   ],
   "source": [
    "startup.info()"
   ]
  },
  {
   "cell_type": "code",
   "execution_count": 64,
   "metadata": {},
   "outputs": [
    {
     "data": {
      "text/html": [
       "<div>\n",
       "<style scoped>\n",
       "    .dataframe tbody tr th:only-of-type {\n",
       "        vertical-align: middle;\n",
       "    }\n",
       "\n",
       "    .dataframe tbody tr th {\n",
       "        vertical-align: top;\n",
       "    }\n",
       "\n",
       "    .dataframe thead th {\n",
       "        text-align: right;\n",
       "    }\n",
       "</style>\n",
       "<table border=\"1\" class=\"dataframe\">\n",
       "  <thead>\n",
       "    <tr style=\"text-align: right;\">\n",
       "      <th></th>\n",
       "      <th>Date</th>\n",
       "      <th>StartupName</th>\n",
       "      <th>IndustryVertical</th>\n",
       "      <th>SubVertical</th>\n",
       "      <th>CityLocation</th>\n",
       "      <th>InvestorsName</th>\n",
       "      <th>InvestmentType</th>\n",
       "      <th>AmountInUSD</th>\n",
       "    </tr>\n",
       "  </thead>\n",
       "  <tbody>\n",
       "    <tr>\n",
       "      <th>0</th>\n",
       "      <td>01/08/2017</td>\n",
       "      <td>TouchKin</td>\n",
       "      <td>Technology</td>\n",
       "      <td>Predictive Care Platform</td>\n",
       "      <td>Bangalore</td>\n",
       "      <td>Kae Capital</td>\n",
       "      <td>Private Equity</td>\n",
       "      <td>1300000.0</td>\n",
       "    </tr>\n",
       "    <tr>\n",
       "      <th>1</th>\n",
       "      <td>02/08/2017</td>\n",
       "      <td>Ethinos</td>\n",
       "      <td>Technology</td>\n",
       "      <td>Digital Marketing Agency</td>\n",
       "      <td>Mumbai</td>\n",
       "      <td>Triton Investment Advisors</td>\n",
       "      <td>Private Equity</td>\n",
       "      <td>NaN</td>\n",
       "    </tr>\n",
       "    <tr>\n",
       "      <th>2</th>\n",
       "      <td>02/08/2017</td>\n",
       "      <td>Leverage Edu</td>\n",
       "      <td>Consumer Internet</td>\n",
       "      <td>Online platform for Higher Education Services</td>\n",
       "      <td>New Delhi</td>\n",
       "      <td>Kashyap Deorah, Anand Sankeshwar, Deepak Jain,...</td>\n",
       "      <td>Seed Funding</td>\n",
       "      <td>NaN</td>\n",
       "    </tr>\n",
       "    <tr>\n",
       "      <th>3</th>\n",
       "      <td>02/08/2017</td>\n",
       "      <td>Zepo</td>\n",
       "      <td>Consumer Internet</td>\n",
       "      <td>DIY Ecommerce platform</td>\n",
       "      <td>Mumbai</td>\n",
       "      <td>Kunal Shah, LetsVenture, Anupam Mittal, Hetal ...</td>\n",
       "      <td>Seed Funding</td>\n",
       "      <td>500000.0</td>\n",
       "    </tr>\n",
       "    <tr>\n",
       "      <th>4</th>\n",
       "      <td>02/08/2017</td>\n",
       "      <td>Click2Clinic</td>\n",
       "      <td>Consumer Internet</td>\n",
       "      <td>healthcare service aggregator</td>\n",
       "      <td>Hyderabad</td>\n",
       "      <td>Narottam Thudi, Shireesh Palle</td>\n",
       "      <td>Seed Funding</td>\n",
       "      <td>850000.0</td>\n",
       "    </tr>\n",
       "  </tbody>\n",
       "</table>\n",
       "</div>"
      ],
      "text/plain": [
       "         Date   StartupName   IndustryVertical  \\\n",
       "0  01/08/2017      TouchKin         Technology   \n",
       "1  02/08/2017       Ethinos         Technology   \n",
       "2  02/08/2017  Leverage Edu  Consumer Internet   \n",
       "3  02/08/2017          Zepo  Consumer Internet   \n",
       "4  02/08/2017  Click2Clinic  Consumer Internet   \n",
       "\n",
       "                                     SubVertical CityLocation  \\\n",
       "0                       Predictive Care Platform    Bangalore   \n",
       "1                       Digital Marketing Agency       Mumbai   \n",
       "2  Online platform for Higher Education Services    New Delhi   \n",
       "3                         DIY Ecommerce platform       Mumbai   \n",
       "4                  healthcare service aggregator    Hyderabad   \n",
       "\n",
       "                                       InvestorsName  InvestmentType  \\\n",
       "0                                        Kae Capital  Private Equity   \n",
       "1                         Triton Investment Advisors  Private Equity   \n",
       "2  Kashyap Deorah, Anand Sankeshwar, Deepak Jain,...    Seed Funding   \n",
       "3  Kunal Shah, LetsVenture, Anupam Mittal, Hetal ...    Seed Funding   \n",
       "4                     Narottam Thudi, Shireesh Palle    Seed Funding   \n",
       "\n",
       "   AmountInUSD  \n",
       "0    1300000.0  \n",
       "1          NaN  \n",
       "2          NaN  \n",
       "3     500000.0  \n",
       "4     850000.0  "
      ]
     },
     "execution_count": 64,
     "metadata": {},
     "output_type": "execute_result"
    }
   ],
   "source": [
    "startup[\"AmountInUSD\"]=startup[\"AmountInUSD\"].apply(lambda x: float(str(x).replace(\",\",\"\")))\n",
    "startup[\"AmountInUSD\"]=pd.to_numeric(startup[\"AmountInUSD\"])\n",
    "startup.head()"
   ]
  },
  {
   "cell_type": "code",
   "execution_count": 65,
   "metadata": {},
   "outputs": [
    {
     "name": "stdout",
     "output_type": "stream",
     "text": [
      "<class 'pandas.core.frame.DataFrame'>\n",
      "RangeIndex: 2372 entries, 0 to 2371\n",
      "Data columns (total 8 columns):\n",
      "Date                2372 non-null object\n",
      "StartupName         2372 non-null object\n",
      "IndustryVertical    2201 non-null object\n",
      "SubVertical         1436 non-null object\n",
      "CityLocation        2193 non-null object\n",
      "InvestorsName       2364 non-null object\n",
      "InvestmentType      2371 non-null object\n",
      "AmountInUSD         1525 non-null float64\n",
      "dtypes: float64(1), object(7)\n",
      "memory usage: 148.3+ KB\n"
     ]
    }
   ],
   "source": [
    "startup.info()"
   ]
  },
  {
   "cell_type": "code",
   "execution_count": 66,
   "metadata": {},
   "outputs": [],
   "source": [
    "startup['SubVertical']=startup['SubVertical'].fillna('Other')"
   ]
  },
  {
   "cell_type": "code",
   "execution_count": 67,
   "metadata": {},
   "outputs": [],
   "source": [
    "startup['CityLocation']=startup['CityLocation'].fillna('Other')"
   ]
  },
  {
   "cell_type": "code",
   "execution_count": 68,
   "metadata": {},
   "outputs": [],
   "source": [
    "startup['IndustryVertical']=startup['IndustryVertical'].fillna('Other')"
   ]
  },
  {
   "cell_type": "code",
   "execution_count": 69,
   "metadata": {},
   "outputs": [],
   "source": [
    "startup['InvestorsName']=startup['InvestorsName'].fillna('Not Specified')\n",
    "startup['InvestmentType']=startup['InvestmentType'].fillna('Not Known')"
   ]
  },
  {
   "cell_type": "code",
   "execution_count": 70,
   "metadata": {},
   "outputs": [
    {
     "data": {
      "text/html": [
       "<div>\n",
       "<style scoped>\n",
       "    .dataframe tbody tr th:only-of-type {\n",
       "        vertical-align: middle;\n",
       "    }\n",
       "\n",
       "    .dataframe tbody tr th {\n",
       "        vertical-align: top;\n",
       "    }\n",
       "\n",
       "    .dataframe thead th {\n",
       "        text-align: right;\n",
       "    }\n",
       "</style>\n",
       "<table border=\"1\" class=\"dataframe\">\n",
       "  <thead>\n",
       "    <tr style=\"text-align: right;\">\n",
       "      <th></th>\n",
       "      <th>Total</th>\n",
       "      <th>Percent</th>\n",
       "    </tr>\n",
       "  </thead>\n",
       "  <tbody>\n",
       "    <tr>\n",
       "      <th>AmountInUSD</th>\n",
       "      <td>847</td>\n",
       "      <td>35.708263</td>\n",
       "    </tr>\n",
       "    <tr>\n",
       "      <th>InvestmentType</th>\n",
       "      <td>0</td>\n",
       "      <td>0.000000</td>\n",
       "    </tr>\n",
       "    <tr>\n",
       "      <th>InvestorsName</th>\n",
       "      <td>0</td>\n",
       "      <td>0.000000</td>\n",
       "    </tr>\n",
       "    <tr>\n",
       "      <th>CityLocation</th>\n",
       "      <td>0</td>\n",
       "      <td>0.000000</td>\n",
       "    </tr>\n",
       "    <tr>\n",
       "      <th>SubVertical</th>\n",
       "      <td>0</td>\n",
       "      <td>0.000000</td>\n",
       "    </tr>\n",
       "    <tr>\n",
       "      <th>IndustryVertical</th>\n",
       "      <td>0</td>\n",
       "      <td>0.000000</td>\n",
       "    </tr>\n",
       "    <tr>\n",
       "      <th>StartupName</th>\n",
       "      <td>0</td>\n",
       "      <td>0.000000</td>\n",
       "    </tr>\n",
       "    <tr>\n",
       "      <th>Date</th>\n",
       "      <td>0</td>\n",
       "      <td>0.000000</td>\n",
       "    </tr>\n",
       "  </tbody>\n",
       "</table>\n",
       "</div>"
      ],
      "text/plain": [
       "                  Total    Percent\n",
       "AmountInUSD         847  35.708263\n",
       "InvestmentType        0   0.000000\n",
       "InvestorsName         0   0.000000\n",
       "CityLocation          0   0.000000\n",
       "SubVertical           0   0.000000\n",
       "IndustryVertical      0   0.000000\n",
       "StartupName           0   0.000000\n",
       "Date                  0   0.000000"
      ]
     },
     "execution_count": 70,
     "metadata": {},
     "output_type": "execute_result"
    }
   ],
   "source": [
    "total = startup.isnull().sum().sort_values(ascending = False)\n",
    "percent = ((startup.isnull().sum()/startup.isnull().count())*100).sort_values(ascending = False)\n",
    "missing_data = pd.concat([total, percent], axis=1, keys=['Total', 'Percent'])\n",
    "missing_data"
   ]
  },
  {
   "cell_type": "code",
   "execution_count": 71,
   "metadata": {},
   "outputs": [
    {
     "name": "stdout",
     "output_type": "stream",
     "text": [
      "<class 'pandas.core.frame.DataFrame'>\n",
      "RangeIndex: 2372 entries, 0 to 2371\n",
      "Data columns (total 8 columns):\n",
      "Date                2372 non-null object\n",
      "StartupName         2372 non-null object\n",
      "IndustryVertical    2372 non-null object\n",
      "SubVertical         2372 non-null object\n",
      "CityLocation        2372 non-null object\n",
      "InvestorsName       2372 non-null object\n",
      "InvestmentType      2372 non-null object\n",
      "AmountInUSD         1525 non-null float64\n",
      "dtypes: float64(1), object(7)\n",
      "memory usage: 148.3+ KB\n"
     ]
    }
   ],
   "source": [
    "startup.info()"
   ]
  },
  {
   "cell_type": "code",
   "execution_count": 72,
   "metadata": {},
   "outputs": [],
   "source": [
    "startup[\"Date\"]=startup[\"Date\"].apply(lambda x: (str(x).replace(\",\",\"\")))"
   ]
  },
  {
   "cell_type": "code",
   "execution_count": 73,
   "metadata": {},
   "outputs": [],
   "source": [
    "startup[\"Date\"]=startup[\"Date\"].apply(lambda x: (str(x).replace(\"//\",\"/\")))\n",
    "startup[\"Date\"]=startup[\"Date\"].apply(lambda x: (str(x).replace(\".\",\"/\")))"
   ]
  },
  {
   "cell_type": "code",
   "execution_count": 74,
   "metadata": {},
   "outputs": [],
   "source": [
    "startup['Date']=pd.to_datetime(startup['Date'])"
   ]
  },
  {
   "cell_type": "code",
   "execution_count": 75,
   "metadata": {},
   "outputs": [
    {
     "data": {
      "text/html": [
       "<div>\n",
       "<style scoped>\n",
       "    .dataframe tbody tr th:only-of-type {\n",
       "        vertical-align: middle;\n",
       "    }\n",
       "\n",
       "    .dataframe tbody tr th {\n",
       "        vertical-align: top;\n",
       "    }\n",
       "\n",
       "    .dataframe thead th {\n",
       "        text-align: right;\n",
       "    }\n",
       "</style>\n",
       "<table border=\"1\" class=\"dataframe\">\n",
       "  <thead>\n",
       "    <tr style=\"text-align: right;\">\n",
       "      <th></th>\n",
       "      <th>Date</th>\n",
       "      <th>StartupName</th>\n",
       "      <th>IndustryVertical</th>\n",
       "      <th>SubVertical</th>\n",
       "      <th>CityLocation</th>\n",
       "      <th>InvestorsName</th>\n",
       "      <th>InvestmentType</th>\n",
       "      <th>AmountInUSD</th>\n",
       "    </tr>\n",
       "  </thead>\n",
       "  <tbody>\n",
       "    <tr>\n",
       "      <th>0</th>\n",
       "      <td>2017-01-08</td>\n",
       "      <td>TouchKin</td>\n",
       "      <td>Technology</td>\n",
       "      <td>Predictive Care Platform</td>\n",
       "      <td>Bangalore</td>\n",
       "      <td>Kae Capital</td>\n",
       "      <td>Private Equity</td>\n",
       "      <td>1300000.0</td>\n",
       "    </tr>\n",
       "    <tr>\n",
       "      <th>1</th>\n",
       "      <td>2017-02-08</td>\n",
       "      <td>Ethinos</td>\n",
       "      <td>Technology</td>\n",
       "      <td>Digital Marketing Agency</td>\n",
       "      <td>Mumbai</td>\n",
       "      <td>Triton Investment Advisors</td>\n",
       "      <td>Private Equity</td>\n",
       "      <td>NaN</td>\n",
       "    </tr>\n",
       "    <tr>\n",
       "      <th>2</th>\n",
       "      <td>2017-02-08</td>\n",
       "      <td>Leverage Edu</td>\n",
       "      <td>Consumer Internet</td>\n",
       "      <td>Online platform for Higher Education Services</td>\n",
       "      <td>New Delhi</td>\n",
       "      <td>Kashyap Deorah, Anand Sankeshwar, Deepak Jain,...</td>\n",
       "      <td>Seed Funding</td>\n",
       "      <td>NaN</td>\n",
       "    </tr>\n",
       "    <tr>\n",
       "      <th>3</th>\n",
       "      <td>2017-02-08</td>\n",
       "      <td>Zepo</td>\n",
       "      <td>Consumer Internet</td>\n",
       "      <td>DIY Ecommerce platform</td>\n",
       "      <td>Mumbai</td>\n",
       "      <td>Kunal Shah, LetsVenture, Anupam Mittal, Hetal ...</td>\n",
       "      <td>Seed Funding</td>\n",
       "      <td>500000.0</td>\n",
       "    </tr>\n",
       "    <tr>\n",
       "      <th>4</th>\n",
       "      <td>2017-02-08</td>\n",
       "      <td>Click2Clinic</td>\n",
       "      <td>Consumer Internet</td>\n",
       "      <td>healthcare service aggregator</td>\n",
       "      <td>Hyderabad</td>\n",
       "      <td>Narottam Thudi, Shireesh Palle</td>\n",
       "      <td>Seed Funding</td>\n",
       "      <td>850000.0</td>\n",
       "    </tr>\n",
       "  </tbody>\n",
       "</table>\n",
       "</div>"
      ],
      "text/plain": [
       "        Date   StartupName   IndustryVertical  \\\n",
       "0 2017-01-08      TouchKin         Technology   \n",
       "1 2017-02-08       Ethinos         Technology   \n",
       "2 2017-02-08  Leverage Edu  Consumer Internet   \n",
       "3 2017-02-08          Zepo  Consumer Internet   \n",
       "4 2017-02-08  Click2Clinic  Consumer Internet   \n",
       "\n",
       "                                     SubVertical CityLocation  \\\n",
       "0                       Predictive Care Platform    Bangalore   \n",
       "1                       Digital Marketing Agency       Mumbai   \n",
       "2  Online platform for Higher Education Services    New Delhi   \n",
       "3                         DIY Ecommerce platform       Mumbai   \n",
       "4                  healthcare service aggregator    Hyderabad   \n",
       "\n",
       "                                       InvestorsName  InvestmentType  \\\n",
       "0                                        Kae Capital  Private Equity   \n",
       "1                         Triton Investment Advisors  Private Equity   \n",
       "2  Kashyap Deorah, Anand Sankeshwar, Deepak Jain,...    Seed Funding   \n",
       "3  Kunal Shah, LetsVenture, Anupam Mittal, Hetal ...    Seed Funding   \n",
       "4                     Narottam Thudi, Shireesh Palle    Seed Funding   \n",
       "\n",
       "   AmountInUSD  \n",
       "0    1300000.0  \n",
       "1          NaN  \n",
       "2          NaN  \n",
       "3     500000.0  \n",
       "4     850000.0  "
      ]
     },
     "execution_count": 75,
     "metadata": {},
     "output_type": "execute_result"
    }
   ],
   "source": [
    "startup.head()"
   ]
  },
  {
   "cell_type": "code",
   "execution_count": 77,
   "metadata": {},
   "outputs": [
    {
     "name": "stdout",
     "output_type": "stream",
     "text": [
      "<class 'pandas.core.frame.DataFrame'>\n",
      "RangeIndex: 2372 entries, 0 to 2371\n",
      "Data columns (total 8 columns):\n",
      "Date                2372 non-null datetime64[ns]\n",
      "StartupName         2372 non-null object\n",
      "IndustryVertical    2372 non-null object\n",
      "SubVertical         2372 non-null object\n",
      "CityLocation        2372 non-null object\n",
      "InvestorsName       2372 non-null object\n",
      "InvestmentType      2372 non-null object\n",
      "AmountInUSD         1525 non-null float64\n",
      "dtypes: datetime64[ns](1), float64(1), object(6)\n",
      "memory usage: 148.3+ KB\n"
     ]
    }
   ],
   "source": [
    "startup.info()"
   ]
  },
  {
   "cell_type": "code",
   "execution_count": 78,
   "metadata": {},
   "outputs": [],
   "source": [
    "startup['year_month']=(startup['Date'].dt.year)*100+(startup['Date'].dt.month)"
   ]
  },
  {
   "cell_type": "code",
   "execution_count": 79,
   "metadata": {},
   "outputs": [
    {
     "data": {
      "text/html": [
       "<div>\n",
       "<style scoped>\n",
       "    .dataframe tbody tr th:only-of-type {\n",
       "        vertical-align: middle;\n",
       "    }\n",
       "\n",
       "    .dataframe tbody tr th {\n",
       "        vertical-align: top;\n",
       "    }\n",
       "\n",
       "    .dataframe thead th {\n",
       "        text-align: right;\n",
       "    }\n",
       "</style>\n",
       "<table border=\"1\" class=\"dataframe\">\n",
       "  <thead>\n",
       "    <tr style=\"text-align: right;\">\n",
       "      <th></th>\n",
       "      <th>Date</th>\n",
       "      <th>StartupName</th>\n",
       "      <th>IndustryVertical</th>\n",
       "      <th>SubVertical</th>\n",
       "      <th>CityLocation</th>\n",
       "      <th>InvestorsName</th>\n",
       "      <th>InvestmentType</th>\n",
       "      <th>AmountInUSD</th>\n",
       "      <th>year_month</th>\n",
       "    </tr>\n",
       "  </thead>\n",
       "  <tbody>\n",
       "    <tr>\n",
       "      <th>0</th>\n",
       "      <td>2017-01-08</td>\n",
       "      <td>TouchKin</td>\n",
       "      <td>Technology</td>\n",
       "      <td>Predictive Care Platform</td>\n",
       "      <td>Bangalore</td>\n",
       "      <td>Kae Capital</td>\n",
       "      <td>Private Equity</td>\n",
       "      <td>1300000.0</td>\n",
       "      <td>201701</td>\n",
       "    </tr>\n",
       "    <tr>\n",
       "      <th>1</th>\n",
       "      <td>2017-02-08</td>\n",
       "      <td>Ethinos</td>\n",
       "      <td>Technology</td>\n",
       "      <td>Digital Marketing Agency</td>\n",
       "      <td>Mumbai</td>\n",
       "      <td>Triton Investment Advisors</td>\n",
       "      <td>Private Equity</td>\n",
       "      <td>NaN</td>\n",
       "      <td>201702</td>\n",
       "    </tr>\n",
       "    <tr>\n",
       "      <th>2</th>\n",
       "      <td>2017-02-08</td>\n",
       "      <td>Leverage Edu</td>\n",
       "      <td>Consumer Internet</td>\n",
       "      <td>Online platform for Higher Education Services</td>\n",
       "      <td>New Delhi</td>\n",
       "      <td>Kashyap Deorah, Anand Sankeshwar, Deepak Jain,...</td>\n",
       "      <td>Seed Funding</td>\n",
       "      <td>NaN</td>\n",
       "      <td>201702</td>\n",
       "    </tr>\n",
       "    <tr>\n",
       "      <th>3</th>\n",
       "      <td>2017-02-08</td>\n",
       "      <td>Zepo</td>\n",
       "      <td>Consumer Internet</td>\n",
       "      <td>DIY Ecommerce platform</td>\n",
       "      <td>Mumbai</td>\n",
       "      <td>Kunal Shah, LetsVenture, Anupam Mittal, Hetal ...</td>\n",
       "      <td>Seed Funding</td>\n",
       "      <td>500000.0</td>\n",
       "      <td>201702</td>\n",
       "    </tr>\n",
       "    <tr>\n",
       "      <th>4</th>\n",
       "      <td>2017-02-08</td>\n",
       "      <td>Click2Clinic</td>\n",
       "      <td>Consumer Internet</td>\n",
       "      <td>healthcare service aggregator</td>\n",
       "      <td>Hyderabad</td>\n",
       "      <td>Narottam Thudi, Shireesh Palle</td>\n",
       "      <td>Seed Funding</td>\n",
       "      <td>850000.0</td>\n",
       "      <td>201702</td>\n",
       "    </tr>\n",
       "  </tbody>\n",
       "</table>\n",
       "</div>"
      ],
      "text/plain": [
       "        Date   StartupName   IndustryVertical  \\\n",
       "0 2017-01-08      TouchKin         Technology   \n",
       "1 2017-02-08       Ethinos         Technology   \n",
       "2 2017-02-08  Leverage Edu  Consumer Internet   \n",
       "3 2017-02-08          Zepo  Consumer Internet   \n",
       "4 2017-02-08  Click2Clinic  Consumer Internet   \n",
       "\n",
       "                                     SubVertical CityLocation  \\\n",
       "0                       Predictive Care Platform    Bangalore   \n",
       "1                       Digital Marketing Agency       Mumbai   \n",
       "2  Online platform for Higher Education Services    New Delhi   \n",
       "3                         DIY Ecommerce platform       Mumbai   \n",
       "4                  healthcare service aggregator    Hyderabad   \n",
       "\n",
       "                                       InvestorsName  InvestmentType  \\\n",
       "0                                        Kae Capital  Private Equity   \n",
       "1                         Triton Investment Advisors  Private Equity   \n",
       "2  Kashyap Deorah, Anand Sankeshwar, Deepak Jain,...    Seed Funding   \n",
       "3  Kunal Shah, LetsVenture, Anupam Mittal, Hetal ...    Seed Funding   \n",
       "4                     Narottam Thudi, Shireesh Palle    Seed Funding   \n",
       "\n",
       "   AmountInUSD  year_month  \n",
       "0    1300000.0      201701  \n",
       "1          NaN      201702  \n",
       "2          NaN      201702  \n",
       "3     500000.0      201702  \n",
       "4     850000.0      201702  "
      ]
     },
     "execution_count": 79,
     "metadata": {},
     "output_type": "execute_result"
    }
   ],
   "source": [
    "startup.head()"
   ]
  },
  {
   "cell_type": "code",
   "execution_count": 25,
   "metadata": {},
   "outputs": [],
   "source": [
    "startup[\"IndustryVertical\"]=startup[\"IndustryVertical\"].str.lower()\n",
    "startup[\"SubVertical\"]=startup[\"SubVertical\"].str.lower()\n",
    "startup[\"StartupName\"]=startup[\"StartupName\"].str.lower()\n",
    "startup[\"InvestorsName\"]=startup[\"InvestorsName\"].str.lower()\n",
    "startup[\"InvestmentType\"]=startup[\"InvestmentType\"].str.lower()"
   ]
  },
  {
   "cell_type": "code",
   "execution_count": 26,
   "metadata": {},
   "outputs": [],
   "source": [
    "import re\n",
    "unique_IV=startup['IndustryVertical'].unique()\n",
    "values_IV=np.array(startup['IndustryVertical'].values)\n",
    "for i in range (len(unique_IV)):\n",
    "    for j in range (len(values_IV)):\n",
    "        if re.search(unique_IV[i],values_IV[j]):\n",
    "            values_IV[j]=unique_IV[i]"
   ]
  },
  {
   "cell_type": "code",
   "execution_count": 27,
   "metadata": {},
   "outputs": [
    {
     "data": {
      "text/plain": [
       "array(['technology', 'consumer internet', 'ecommerce', 'logistics',\n",
       "       'others', 'healthcare', 'food & beverage', 'finance', 'education',\n",
       "       'real estate', 'fmcg', 'reality', 'auto', 'bfsi',\n",
       "       'consumer interne', 'online education information platform',\n",
       "       'brand licensing startup',\n",
       "       'gourmet food discovery & delivery platform',\n",
       "       'transportation & logistics platform',\n",
       "       'enterprise marketing automation platform',\n",
       "       'health, wellness & beauty services app', 'digital healthcare',\n",
       "       'last minute hotel booking app', 'womens fashion wear portal',\n",
       "       'product learning platform',\n",
       "       'online food ordering & delivery platform',\n",
       "       'app based bus pooling services', 'social learning platform',\n",
       "       'social fitness platform', 'on demand mobile app developer',\n",
       "       'car maintenance & management mobile app',\n",
       "       'online wedding marketplace', 'splitting bills mobile app',\n",
       "       'iot energy management analytics platform',\n",
       "       'custom made furniture e-tailer', 'qsr chain',\n",
       "       'elearning platform', 'smart safety wearable devices',\n",
       "       'cab sharing service mobile app',\n",
       "       'cloud enterprise mobility platform',\n",
       "       'online shopping assistant mobile app',\n",
       "       'home cooked food order & delivery platform',\n",
       "       'online school for analytics learning',\n",
       "       'chat based personal assistant app',\n",
       "       'picture creation & social mobile app',\n",
       "       'nonbanking finance company', 'ecommerce returns etailer',\n",
       "       'online freight services aggregator',\n",
       "       'online branded furniture etailer', 'digital analytics platform',\n",
       "       'internet network infrastructure services',\n",
       "       'supply chain & logistics solutions', 'holiday resort chain',\n",
       "       'mobile point of sale solutions',\n",
       "       'peer-to-peer money transfer & recharge app',\n",
       "       'test automation saas platform', 'citizens engagement platform',\n",
       "       'indoor navigation & analytics solutions',\n",
       "       'hyperlocal on-demand household services platform',\n",
       "       'online rti application services',\n",
       "       'ecommerce website creation saas platform',\n",
       "       'wedding venues & vendors marketplace',\n",
       "       'interface development platform for government officials',\n",
       "       'modular furnishings marketplace',\n",
       "       'private jet bookings marketplace',\n",
       "       'cab search comparison & booking platform',\n",
       "       'performance optimization platform for athletes',\n",
       "       'event venue booking platform', 'digital media platform',\n",
       "       'visual search and discovery platform',\n",
       "       'home services marketplace',\n",
       "       'end to end reverse logistics solution platform',\n",
       "       'virtual health consultation app', 'online renting platform',\n",
       "       'logistics services provider',\n",
       "       'data science & ux design learning platform',\n",
       "       'online marketplace for chef meals', 'electric bike manufacturers',\n",
       "       'ecommerce platform solutions', 'online media publication',\n",
       "       'international hiring platform',\n",
       "       'logistics service provider marketplace',\n",
       "       'hyperlocal\\xa0 grocery delivery service',\n",
       "       'sports education platform',\n",
       "       'bike, appliances renting marketplace',\n",
       "       'online marketplace for industrial goods',\n",
       "       'reward points mobile app', 'mobile accessories online store',\n",
       "       'content discovery & reward points platform',\n",
       "       'artificial intelligence platform',\n",
       "       'medical consultation & doctor appointment booking platform',\n",
       "       'mobile fitness app',\n",
       "       'digital coupons, deal & cashback aggregator app',\n",
       "       'mobile game development & design platform',\n",
       "       'b2b ecommerce marketplace',\n",
       "       'furniture and appliances rental platform',\n",
       "       'b2b merchandize platform', 'real estate focused tech platform',\n",
       "       'photographer online search & booking platform',\n",
       "       'grocery delivery platform',\n",
       "       'mobile car servicing appointment app', 'new curation mobile app',\n",
       "       'mobile wallet', 'bus aggregation and rental mobile app',\n",
       "       'hyperlocal online services platform',\n",
       "       'wifi – first cloud communication platform',\n",
       "       'alternate mobile monetization platform',\n",
       "       'online food ordering marketplace',\n",
       "       'quick service restaurant & online delivery',\n",
       "       'online loans marketplace', 'budget hotels aggregator',\n",
       "       'efficient energy management platform',\n",
       "       'digital intelligent learning platform',\n",
       "       'voice call incentivization mobile app',\n",
       "       'online counselling and psychological support platform',\n",
       "       'domestic help aggregation platform',\n",
       "       'home stay & room rentals platform', 'selfie mobile app',\n",
       "       'online reputation management platform', 'online grocery platform',\n",
       "       'online content platform for women',\n",
       "       'online vehicle spare parts etailer', 'event ticketing platform',\n",
       "       'affordable personal healthcare products',\n",
       "       'premium dining lounges & restaurants',\n",
       "       'mobile growth hackingplatform', 'skill training startup',\n",
       "       'beauty and wellness marketplace', 'marketplace app for bangkok',\n",
       "       'on-demand maids service provider',\n",
       "       'ecommerce product search engine', 'ready to cook packaged foods',\n",
       "       'product customization platform',\n",
       "       'branded food products online sales',\n",
       "       'talent platform for fashion professionals',\n",
       "       'auto insurance online platform',\n",
       "       'hyperlocal logistics service provider',\n",
       "       'cricket management mobile game',\n",
       "       'on demand laundry service platform',\n",
       "       'ecommerce discount & cashback coupons platform',\n",
       "       'virtual reality headset creator',\n",
       "       'home improvement service platform',\n",
       "       'mobile-only tasks marketplace',\n",
       "       'women ethnic wear\\xa0 online marketplace',\n",
       "       'numerical computing & data science platform',\n",
       "       'designer fashion jewellery marketplace',\n",
       "       'online products discovery platform',\n",
       "       'kids tool kit for innovation platform',\n",
       "       'mobile learning solutions', 'car aggregator & retail mobile app',\n",
       "       'conversational commerce mobile app', 'viral content web platform',\n",
       "       'express local delivery platform',\n",
       "       'on-demand local logistics provider',\n",
       "       'curated freelancer marketplace', 'online taxi rental platform',\n",
       "       'mobile services marketplace', 'smartwatch maker',\n",
       "       'online gourmet food marketplace', 'online jewellery etailer',\n",
       "       'sales & productivity software',\n",
       "       'ecommerce related software product platform',\n",
       "       'health-tech platform', 'nightlife discovery mobile app',\n",
       "       'online real estate marketplace',\n",
       "       'home healthcare services platform,',\n",
       "       'indian ethnic crafts etailer',\n",
       "       'social platform for traders and investors',\n",
       "       'online furniture, home appliances rental platform',\n",
       "       'healthcare services discovery platform',\n",
       "       'health and beauty services marketplace',\n",
       "       'automotive services platform',\n",
       "       'online and tv shopping marketplace',\n",
       "       'big data analytics platform',\n",
       "       'mobile app based loan disbursement platform',\n",
       "       'on demand laundry services app', 'education content provider',\n",
       "       'content management software solutions',\n",
       "       'fitness tracking management solutions',\n",
       "       'hyper-local grocery delivery platform',\n",
       "       'hyperlocal healthcare product delivery service provider',\n",
       "       'online lending marketplace', 'on demand beauty services platform',\n",
       "       'self driven rental car platform', 'education content etailer',\n",
       "       'clud based learning platform',\n",
       "       'talent exchange & talent services marketplace',\n",
       "       'two-wheeler taxi service', 'character merchandize sales platform',\n",
       "       'mobile application developer',\n",
       "       'ecommerce delivery locker services',\n",
       "       'extra curricular activities marketplace app',\n",
       "       'hyperlocal online home services provider',\n",
       "       'easy business loans platform',\n",
       "       'performance based wholesale marketplace',\n",
       "       'professional services marketplace', 'movie-on-demand platform',\n",
       "       'bus ticketing and fleet management platform',\n",
       "       'online income tax filing platform',\n",
       "       'product discovery & recommendation platform',\n",
       "       'mobile payments app', 'beauty & wellness products e-tailer',\n",
       "       'fashion jewelry and accessories e-tailer',\n",
       "       'online consumer lending platform',\n",
       "       'premium apparel shopping portal',\n",
       "       'exclusive platform for doctors & healthcare professionals',\n",
       "       'job board', 'sports management & physical education business',\n",
       "       'multi-sport program for preschoolers',\n",
       "       'qsr & online delivery portal', 'online homeopathy clinic',\n",
       "       'e-learning service provider', 'organic food etailer',\n",
       "       'delivery & logistics service provider',\n",
       "       'product discovery & comparison app',\n",
       "       'online apparels fashion brand',\n",
       "       'home cooked food marketplace & delivery',\n",
       "       'gesture based mobile development',\n",
       "       'hotel mobile crm software platform',\n",
       "       'rental accommodation search platform', 'logistics tech platform',\n",
       "       'developer portfolio showcase platform',\n",
       "       'doctors network mobile app', 'end-to-end lending platform',\n",
       "       'on-demand healthcare marketplace',\n",
       "       '360-degree view creating platform',\n",
       "       'advertising & marketing community networking platform',\n",
       "       'food ordering & delivery app', 'ride sharing platform',\n",
       "       'online p2p lending marketplace',\n",
       "       'b2b marketplace for industrial goods',\n",
       "       'cloud based collaboration platform',\n",
       "       'global community for travellers', 'prepaid bill manager app',\n",
       "       'mobile only shopping assistant', 'mobile messaging assistant app',\n",
       "       'personalized wish list creator app', 'music streaming mobile app',\n",
       "       'raw meat & ready to eat food etailer', 'gym discovery platform',\n",
       "       'online purchase rewards app', 'home rental platform',\n",
       "       'crowdsourced delivery platform', 'real estate insights platform',\n",
       "       'structural & civil engg service automation',\n",
       "       'startup funding marketplace', 'payments solution platform',\n",
       "       'travel destination discovery platform',\n",
       "       'order fulfillment saas platform', 'last mile delivery service',\n",
       "       'healthcare it solutions & services', 'gourmet meals delivery',\n",
       "       'healthy meals food delivery platform', 'real estate mobile crm',\n",
       "       'micro-brewery', 'home made food marketplace',\n",
       "       'residential rental management platform',\n",
       "       'personalized stock intelligence platform',\n",
       "       'personal diagnostic mobile app',\n",
       "       'online food ordering & delivery service',\n",
       "       'hotel aggregator & booking platform', 'online logistics platform',\n",
       "       'online student & campus social networking platform',\n",
       "       'professionals & project search marketplace', 'online pharmacy',\n",
       "       'online payment gateway', 'psychometric test online software',\n",
       "       'location based nightlife recommendation\\xa0 platform',\n",
       "       'professional health services platform',\n",
       "       'hyperlocal logistics service', 'online user engagement platform',\n",
       "       'asset financing platform',\n",
       "       'virtual reality activity based learning platform',\n",
       "       'online grocery store', 'investment management platform',\n",
       "       'industrial toons marketplace', 'public commute helper app',\n",
       "       'artificial intelligence ecommerce chatbot',\n",
       "       'truck aggregator & logistics service', 'ridesharing mobile app',\n",
       "       'food discovery & delivery mobile app',\n",
       "       'competitive exam learning platform',\n",
       "       'document digitization platform',\n",
       "       'proximity marketing & mobile advertising platform',\n",
       "       'autorickshaw aggregator & booking platform',\n",
       "       'fintech startup incubation platform', 'payment services platform',\n",
       "       'personalized styling platform',\n",
       "       'luxury goods\\xa0 shopping platform', 'food delivery platform',\n",
       "       'online lingerie marketplace', 'cloud software solutions',\n",
       "       'job search platform', 'doctor consultancy mobile app',\n",
       "       'small business financing (nbfc)',\n",
       "       'beauty & wellness services marketplace',\n",
       "       'online movie review platform',\n",
       "       'ecommerce brands’ full service agency',\n",
       "       'cloud-based hotel booking platform',\n",
       "       'community driven news/views platform',\n",
       "       'study material marketplace',\n",
       "       'restaurant ratings & reviews platform',\n",
       "       'dairy based product manufacturer',\n",
       "       'government test preparation platform',\n",
       "       'smart report cards for schools', 'teacher empowerment platform',\n",
       "       'multilingual test preparation platform',\n",
       "       'industrial tools marketplace',\n",
       "       'non profit organization to alleviate poverty',\n",
       "       'gym & fitness studios subscription platform',\n",
       "       'pre-used luxury item marketplace',\n",
       "       'pre-used apparel shopping mobile app',\n",
       "       'home design & décor platform', 'used vehicles marketplace',\n",
       "       'online bus & cab ticketing platform',\n",
       "       'mobile app testing platform', 'hyperlocal delivery services',\n",
       "       'early cancer detection solutions', 'cab rental mobile app',\n",
       "       'online insurance distribution platform',\n",
       "       'mobile marketing automation platform',\n",
       "       'prepaid mobile bill manager app', 'chain of tea café’s',\n",
       "       'branded budget hotel marketplace',\n",
       "       'home fitting & fixtures marketplace',\n",
       "       'food subscription platform', 'wedding planning platform',\n",
       "       'b2b mobile auction marketplace',\n",
       "       'ecommerce data analytics platform',\n",
       "       'designer merchandize marketplace',\n",
       "       'private label fashion etailer', 'online food ordering & delivery',\n",
       "       'real estate broker platform app',\n",
       "       'online health & wellness platform', 'internet of things platform',\n",
       "       'diagnostic labs aggregator platform',\n",
       "       'hyperlocal delivery platform', 'home medical care services',\n",
       "       'real-time stock data platform',\n",
       "       'food discovery & table booking app',\n",
       "       'coupons and cashback aggregator app',\n",
       "       'financial products lead generation platform',\n",
       "       'sustainable agri-inputs firm', 'financial services portal',\n",
       "       'pre-owned games marketplace',\n",
       "       'content-based subscription ecommerce platform',\n",
       "       'virtual reality, 3d simulation and stereoscopic products',\n",
       "       'online interior designing platform',\n",
       "       'end-to-end logistics platform', 'private label apparel sales',\n",
       "       'healthcare consulting platform', 'stock market portal',\n",
       "       'cross-device retargeting platform',\n",
       "       'digital & physical publishing platform',\n",
       "       'data driven publishing platform',\n",
       "       'employee onboarding & orientation platform',\n",
       "       'solar power solutions company', 'online meat ordering platform',\n",
       "       'online meal-booking platform for train travelers',\n",
       "       'cab booking app platform', 'e-commerce & m-commerce platform',\n",
       "       'mobile advertising platform', 'hyperlocal grocery delivery',\n",
       "       'ecommerce product recommendation platform',\n",
       "       'activity based social network', 'fashion discovery platform',\n",
       "       'consumer lending marketplace', 'big data management platform',\n",
       "       'budget accommodation platform', 'local mobile os',\n",
       "       'digital signal processing platform', 'ecommerce marketplace',\n",
       "       'restaurant discount app', 'tech-enabled learning',\n",
       "       'ecommerce logistics provider',\n",
       "       'on-demand home beauty and wellness portal',\n",
       "       'self driven car rental', 'budget hotel accommodation brand',\n",
       "       'energy & environment online marketplace',\n",
       "       'user engagment & analytics platform',\n",
       "       'on-demand delivery logistics',\n",
       "       'fund raising platform for startups', 'online budget hotel chain',\n",
       "       'hyperlocal handyman services', 'hotel booking app',\n",
       "       'rental accomodation finder', 'tech platform for property brokers',\n",
       "       'luxury apparel rental', 'app security\\xa0 testing platform',\n",
       "       'doctor appointment booking app', 'anonymous bulletin board app',\n",
       "       'travel community platform', 'crowd funding platform',\n",
       "       'mobile based pos solution', 'car & bike ecommerce platform',\n",
       "       'fast food chain franchisee', 'loyalty programs & reward points',\n",
       "       'energy saving solutions provider', 'self-storage spaces',\n",
       "       'grocery retail mobile app', 'taxi rental platform',\n",
       "       'machine learning platform', 'mobile social network',\n",
       "       'hyper-local ecommerce', 'online printing marketplace',\n",
       "       'mobile payment software platform',\n",
       "       'automated storage & warehousing solution',\n",
       "       'home design & décor solutions', 'quick service restaurant chain',\n",
       "       'subscription based online grocery platform',\n",
       "       'engineering services company', 'business and it consulting',\n",
       "       'credit card fraud protection solutions',\n",
       "       'online & mobile grocery store', 'career community for women',\n",
       "       'mutual fund investing platform',\n",
       "       'ecommerce marketing software platform',\n",
       "       'financial inclusion platform',\n",
       "       'digital marketing automation solution',\n",
       "       'mobile commerce for farmers', 'picture based social app',\n",
       "       'logistics service platform', 'on-demand beauty services',\n",
       "       'exam preparation platform', 'startup focused online publisher',\n",
       "       'waste management solutions', 'app based fitness coaching',\n",
       "       'on demand cleaning & fixing services',\n",
       "       'beauty & lifestyle platform', 'on-demand delivery service',\n",
       "       'data analytics platform', 'deep learning cloud algorithms',\n",
       "       'location based engagement & rewards platform',\n",
       "       'online identity verification services platform',\n",
       "       'corporate wellness app', 'fashion search & review platform',\n",
       "       'hyperlocal maintenance, repair & cleaning services',\n",
       "       'pre-owned luxury online apparel seller',\n",
       "       'online furniture marketplace',\n",
       "       'online diagnostic tests marketplace',\n",
       "       'online marketplace for photographers', 'visual blogging platform',\n",
       "       'food customer analytics platform',\n",
       "       'professional service appointment booking service',\n",
       "       'scientific horoscope online assistance platform',\n",
       "       'tech enabled ac bus service',\n",
       "       'on-demand app based professional service provider',\n",
       "       'restaurant reservation platform', 'cross-channel crm platform',\n",
       "       'professional custom creators marketplace',\n",
       "       'on-demand washing & dry-cleaning', 'on-demand beauty service',\n",
       "       'solar products and services marketplace',\n",
       "       'online food community platform',\n",
       "       'private cloud networks saas platform', 'education marketplace',\n",
       "       'cloud based hotel sales platform',\n",
       "       'online recipe sharing platform',\n",
       "       'beauty & lifestyle mobile marketplace', 'qsr restaurant chain',\n",
       "       'digital media publishing platform',\n",
       "       'online coffee delivery platform',\n",
       "       'language localization cloud platform',\n",
       "       'big data & predictive analysis platform',\n",
       "       'business it intelligence services', 'crm / analytics platform',\n",
       "       'hyperlocal electronics repair service', 'ed-tech platform',\n",
       "       'it infrastructure & data center services',\n",
       "       'online financial services', 'used car marketplace',\n",
       "       'language learning app', 'mobile fitness marketplace',\n",
       "       'custom merchandize platform', 'p2p pre-owned goods marketplace',\n",
       "       'custom furniture marketplace', 'online tailoring services',\n",
       "       'rail ticket confirmation predictor',\n",
       "       'ethnic beverages manufacturer', 'hyperlocal goods marketplace',\n",
       "       'budget accommodation aggregator', 'real estate rating & analysis',\n",
       "       'financial tech', 'food discovery app', 'music streaming app',\n",
       "       'big data & analytics platform', 'coupon aggregator platform',\n",
       "       'electric scooter manufacturer', 'online food-tech platform',\n",
       "       'celebrity fashion brand', 'online finance lending platform',\n",
       "       'healthcare mobile app', 'self-driven vehicle rental',\n",
       "       'news aggregator mobile app', 'online jewellery store',\n",
       "       'fashion info aggregator app', 'online study notes marketplace',\n",
       "       'warranty programs service administration', 'pre-school chain',\n",
       "       'premium loyalty rewards point management',\n",
       "       'contact center software platform',\n",
       "       'casual dining restaurant chain', 'online grocery delivery',\n",
       "       'online comparison engine', 'physical storage warehouses',\n",
       "       'tech recruitment platform', 'bike rental platform',\n",
       "       'tech enabled logistics platform', 'budget hotel accommodation',\n",
       "       'restaurant customer engagement platform',\n",
       "       'live video streaming app', 'hyper local logistics platform',\n",
       "       'f&b sector mobile payment platform',\n",
       "       'industrial supplies b2b ecommerce', 'payment solutions platform',\n",
       "       'online hiring platform', 'organic food ecommerce',\n",
       "       'fine dining restaurant chain', 'luxury rental homes',\n",
       "       'mobile point of sale payment solution', 'online grocers',\n",
       "       'casual dating app', 'clinical genomics provider',\n",
       "       'travel information portal', 'fitness marketplace',\n",
       "       'online & mobile classified listings',\n",
       "       'private jet/ helicopter marketplace',\n",
       "       'real estate broker network app',\n",
       "       'ethnic/ traditional fashion store', 'used bikes marketplace',\n",
       "       'spa & salon management software',\n",
       "       'b2b logistics delivery platform', 'logistics automation platform',\n",
       "       'online home décor marketplace', 'online marketplace',\n",
       "       'hyperlocal food & grocery store', 'medical tech instruments',\n",
       "       'hyperlocal deals marketplace', 'innovative water solutions',\n",
       "       'online jewelry store', 'business intelligence & analytics',\n",
       "       'used vehicle marketplace', 'educational board games',\n",
       "       'chinese food delivery', 'on-demand laundry & dry cleaning app',\n",
       "       'on-demand car services app', 'hyperlocal grocery app',\n",
       "       'online curated holiday package bookings',\n",
       "       'hasbro toy manufacturer', 'travel tech',\n",
       "       'beauty and wellness platform', 'healthy food manufacturer',\n",
       "       'online learning platform', 'healthy food online community',\n",
       "       'used two-wheeler marketplace', 'online fashion video portal',\n",
       "       'probiotic technology products manufacturer',\n",
       "       'architectural design & consulting',\n",
       "       'big data & analytics services', 'preventive healthcare services',\n",
       "       'tech-enabled rural healthcare services',\n",
       "       'engineering innovations', 'real estate intelligence platform',\n",
       "       'online car rental affiliates', 'data center software platform',\n",
       "       'online city & lifestyle guide', 'p2p payments platform',\n",
       "       'bespoke merchandize marketplace', 'women lifestyle marketplace',\n",
       "       'logistics solution provider', 'video intelligence platform',\n",
       "       'hyperlocal shopping app', 'ecommerce platform',\n",
       "       'renewable energy solutions', 'healthcareservice provider',\n",
       "       'auto rickshaw based services', 'artist / designer marketplace',\n",
       "       'off-grid solar power', 'private label lingerie ecommerce',\n",
       "       'online food ordering', 'mobile commerce platform',\n",
       "       'online printing services', 'digital marketing services',\n",
       "       'travel guide mobile app', 'fashion ecommerce store',\n",
       "       'mobile compression software', 'peer to peer lending platform',\n",
       "       'global healthcare products', 'home furnishing solutions',\n",
       "       'skill training & placement platform',\n",
       "       'intra-city logistics service', 'online tiffin service aggregator',\n",
       "       'electronic goods recycling service',\n",
       "       'online coupon & comparison platform',\n",
       "       'parents & kids online platform', 'dental clinic chain',\n",
       "       'on-demand logistics service', '3d printer manufacturer',\n",
       "       'it / customer engagement consulting', 'health & fitness app',\n",
       "       'online education marketplace', 'financial services platform',\n",
       "       'social network for artists', 'startup funding platform',\n",
       "       'data driven recruitment recommendation', 'travel search engine',\n",
       "       'brain games platform', 'video advertisement platform',\n",
       "       'algorithmic match making platform',\n",
       "       'mobile chat based concierge service',\n",
       "       'online budget hotel booking service', 'science learning app',\n",
       "       'online education platform', 'saas product intelligence platform',\n",
       "       'logistics tech', 'app analytics platform',\n",
       "       'micro finance platform', 'freight logistics platform',\n",
       "       'credit management services', 'hyperlocal services marketplace',\n",
       "       'beauty services mobile marketplace',\n",
       "       'marketing / advertising automation platform',\n",
       "       'online lingerie platform', 'railways information mobile app',\n",
       "       'flat rental mobile app', 'wealth management platform',\n",
       "       'online food delivery', 'fund raising platform',\n",
       "       'workforce management software', 'online art marketplace',\n",
       "       'affordable education', 'career development',\n",
       "       'real estate advisory', 'banking analytics platform',\n",
       "       'customer engagement platform', 'ecommerce logistics',\n",
       "       'speech recognition solutions', 'online product comparison',\n",
       "       'online security platform', 'online medical diagnostic',\n",
       "       'cloud data integration platform',\n",
       "       'mobile laundry cleaning service', 'service-on-demand mobile app',\n",
       "       'intelligent data analytics', 'online office rental',\n",
       "       'lifestyle ecommerce portal', 'online fashion aggregator',\n",
       "       'online job skills showcase', 'online news media',\n",
       "       'enterprise communication platform', 'offline tea chain',\n",
       "       'business messaging app', 'health mobile app',\n",
       "       'online ed-tech platform', 'online travel planning',\n",
       "       'hyperlocal mobile marketplace', 'trucking logistic operations',\n",
       "       'b2c messaging app', 'rooftop solar plants', 'online car portal',\n",
       "       'online table reservation', 'parents focused web content',\n",
       "       'payments solution provider', 'on-demand service marketplace',\n",
       "       'on-demand business messaging', 'online home décor',\n",
       "       'api workflow platform', 'affordable hotel booking online',\n",
       "       'logistics intelligence', 'last mile logistics',\n",
       "       'self-driven car rental', 'weight management service',\n",
       "       'web content publishing', 'location based app', 'video streaming',\n",
       "       'price comparison', 'online classifieds', 'travel entertainment',\n",
       "       'digital / mobile wallet', 'cab aggregator', 'device repair svcs',\n",
       "       'premium beverages', 'online furnishingecommerce', 'ed-tech',\n",
       "       'interactive\\xa0 how-to guides', 'mobile health tech',\n",
       "       'restaurant reviews', 'online grocer', 'online hotel booking',\n",
       "       'online kitchen furniture', 'hyper-local online services',\n",
       "       'hyper-local online/mobile grocery', 'online policy aggregator',\n",
       "       'hyperlocal mobile services marketplace',\n",
       "       'ondemandmobile handyman services', 'mobile app development',\n",
       "       'on-demand handyman services', 'beauty & wellness mobile app',\n",
       "       'material collection & recycling', 'online pharmacy & drug db',\n",
       "       'online / mobile customer support',\n",
       "       'online classifieds & listings', 'fashion ecommerce',\n",
       "       'private coaching centers', 'online certification courses',\n",
       "       'ethnic product ecommerce',\n",
       "       'last minute travel deals mobile marketplace',\n",
       "       'business expense management', 'auto rickshaw based logistics',\n",
       "       'restaurant reservation app', 'spam call block app',\n",
       "       'online insurance aggregator', 'restaurant management platform',\n",
       "       'food logistics & delivery', 'interactive educational games',\n",
       "       'clean tech', 'grey collar job board',\n",
       "       'online furniture ecommerce', 'robotic program learning',\n",
       "       'tele-shopping / ecommerce', 'used gadgets buy / refurbishing',\n",
       "       'cloud enterprise software', 'startup analytics platform',\n",
       "       'mobile food ordering app', 'financial markets software',\n",
       "       'hiring analytics platform', 'online travel marketplace', 'other'],\n",
       "      dtype=object)"
      ]
     },
     "execution_count": 27,
     "metadata": {},
     "output_type": "execute_result"
    }
   ],
   "source": [
    "startup[\"IndustryVertical\"]=startup[\"IndustryVertical\"].apply(lambda x: str(x).replace(\"food & beverages\",\"food & beverage\"))\n",
    "startup[\"IndustryVertical\"].unique()"
   ]
  },
  {
   "cell_type": "code",
   "execution_count": 28,
   "metadata": {},
   "outputs": [],
   "source": [
    "unique_SV=startup['SubVertical'].unique()\n",
    "values_SV=np.array(startup['SubVertical'].values)\n",
    "for i in range (len(unique_SV)):\n",
    "    for j in range (len(values_SV)):\n",
    "        if re.search(unique_SV[i],values_SV[j]):\n",
    "            values_SV[j]=unique_SV[i]"
   ]
  },
  {
   "cell_type": "code",
   "execution_count": 29,
   "metadata": {},
   "outputs": [
    {
     "data": {
      "text/plain": [
       "array(['predictive care platform', 'digital marketing agency',\n",
       "       'online platform for higher education services', ...,\n",
       "       'hobby & activity class aggregator', 'interior design marketplace',\n",
       "       'other'], dtype=object)"
      ]
     },
     "execution_count": 29,
     "metadata": {},
     "output_type": "execute_result"
    }
   ],
   "source": [
    "startup['SubVertical'].unique()"
   ]
  },
  {
   "cell_type": "code",
   "execution_count": 30,
   "metadata": {},
   "outputs": [],
   "source": [
    "unique_SN=startup['StartupName'].unique()\n",
    "values_SN=np.array(startup['StartupName'].values)\n",
    "for i in range (len(unique_SN)):\n",
    "    for j in range (len(values_SN)):\n",
    "        if re.search(unique_SN[i],values_SN[j]):\n",
    "            values_SN[j]=unique_SN[i]"
   ]
  },
  {
   "cell_type": "code",
   "execution_count": 31,
   "metadata": {},
   "outputs": [],
   "source": [
    "startup['StartupName']=startup[\"StartupName\"].apply(lambda x: (str(x).replace(\"ola cabs\",\"ola\")))\n",
    "startup['StartupName']=startup[\"StartupName\"].apply(lambda x: (str(x).replace(\"olacabs\",\"ola\")))\n",
    "startup['StartupName']=startup[\"StartupName\"].apply(lambda x: (str(x).replace(\"flipkart.com\",\"flipkart\")))\n",
    "startup['StartupName']=startup[\"StartupName\"].apply(lambda x: (str(x).replace(\"paytm marketplace\",\"paytm\")))"
   ]
  },
  {
   "cell_type": "code",
   "execution_count": 32,
   "metadata": {},
   "outputs": [
    {
     "data": {
      "text/plain": [
       "array(['touchkin', 'ethinos', 'leverage edu', ..., 'graphene',\n",
       "       'simplotel', 'couponmachine.in'], dtype=object)"
      ]
     },
     "execution_count": 32,
     "metadata": {},
     "output_type": "execute_result"
    }
   ],
   "source": [
    "startup['StartupName'].unique()"
   ]
  },
  {
   "cell_type": "code",
   "execution_count": 33,
   "metadata": {},
   "outputs": [],
   "source": [
    "unique_IN=startup['InvestorsName'].unique()\n",
    "values_IN=np.array(startup['InvestorsName'].values)\n",
    "for i in range (len(unique_IN)):\n",
    "    for j in range (len(values_IN)):\n",
    "        if re.search(unique_IN[i],values_IN[j]):\n",
    "            values_IN[j]=unique_IN[i]\n",
    "startup[\"InvestorsName\"]=startup[\"InvestorsName\"].apply(lambda x: str(x).replace(\"undisclosed investors\",\"undisclosed investor\"))"
   ]
  },
  {
   "cell_type": "code",
   "execution_count": 34,
   "metadata": {},
   "outputs": [
    {
     "data": {
      "text/plain": [
       "array(['kae capital', 'triton investment advisors',\n",
       "       'kashyap deorah, anand sankeshwar, deepak jain, sadashiva nt, arjun mehta, satish kaul, anindya ghose',\n",
       "       ..., 'karsemven fund', 'exfinity fund, growx ventures.',\n",
       "       'uk based group of angel investors'], dtype=object)"
      ]
     },
     "execution_count": 34,
     "metadata": {},
     "output_type": "execute_result"
    }
   ],
   "source": [
    "startup['InvestorsName'].unique()"
   ]
  },
  {
   "cell_type": "code",
   "execution_count": 35,
   "metadata": {},
   "outputs": [],
   "source": [
    "unique_IT=startup['InvestmentType'].unique()\n",
    "values_IT=np.array(startup['InvestmentType'].values)\n",
    "for i in range (len(unique_IT)):\n",
    "    for j in range (len(values_IT)):\n",
    "        if re.search(unique_IT[i],values_IT[j]):\n",
    "            values_IT[j]=unique_IT[i]"
   ]
  },
  {
   "cell_type": "code",
   "execution_count": 36,
   "metadata": {},
   "outputs": [
    {
     "data": {
      "text/plain": [
       "array(['private equity', 'seed funding', 'debt funding', 'not known',\n",
       "       'seedfunding', 'privateequity', 'crowd funding'], dtype=object)"
      ]
     },
     "execution_count": 36,
     "metadata": {},
     "output_type": "execute_result"
    }
   ],
   "source": [
    "startup[\"InvestmetType\"]=startup[\"InvestmentType\"].apply(lambda x: str(x).replace(\"privateequity\",\"private equity\"))\n",
    "startup['InvestmentType'].unique()"
   ]
  },
  {
   "cell_type": "markdown",
   "metadata": {},
   "source": [
    "# Exploratory Data Analysis"
   ]
  },
  {
   "cell_type": "code",
   "execution_count": 37,
   "metadata": {},
   "outputs": [
    {
     "data": {
      "image/png": "[encoded data removed]",
      "text/plain": [
       "<Figure size 1080x576 with 1 Axes>"
      ]
     },
     "metadata": {
      "needs_background": "light"
     },
     "output_type": "display_data"
    }
   ],
   "source": [
    "#How the fund is distributed about year and month?\n",
    "year_month=startup['year_month'].value_counts()\n",
    "plt.figure(figsize=(15,8))\n",
    "sns.barplot(year_month.index,year_month.values)\n",
    "plt.xticks(rotation='vertical')\n",
    "plt.xlabel('Year-Month of transaction', fontsize=12)\n",
    "plt.ylabel('Number of fundings made', fontsize=12)\n",
    "plt.title(\"Year-Month Distribution\", fontsize=16)\n",
    "plt.show()"
   ]
  },
  {
   "cell_type": "code",
   "execution_count": 38,
   "metadata": {},
   "outputs": [
    {
     "name": "stdout",
     "output_type": "stream",
     "text": [
      "Maximum funding that is given to a startup is:  1400000000.0\n"
     ]
    }
   ],
   "source": [
    "#What is the maximum funding that is funded to a startup?\n",
    "print('Maximum funding that is given to a startup is: ',startup['AmountInUSD'].dropna().sort_values().max())"
   ]
  },
  {
   "cell_type": "code",
   "execution_count": 39,
   "metadata": {},
   "outputs": [
    {
     "name": "stdout",
     "output_type": "stream",
     "text": [
      "Startups having the highest amount of funding:\n"
     ]
    },
    {
     "data": {
      "text/plain": [
       "158       paytm\n",
       "294    flipkart\n",
       "Name: StartupName, dtype: object"
      ]
     },
     "execution_count": 39,
     "metadata": {},
     "output_type": "execute_result"
    }
   ],
   "source": [
    "#Which startup has got the maximum funding?\n",
    "print('Startups having the highest amount of funding:')\n",
    "startup[startup['AmountInUSD']==1400000000.0].StartupName"
   ]
  },
  {
   "cell_type": "code",
   "execution_count": 40,
   "metadata": {},
   "outputs": [
    {
     "name": "stdout",
     "output_type": "stream",
     "text": [
      "Minimum funding that is given to a startup is:  16000.0\n"
     ]
    }
   ],
   "source": [
    "#What is the minimum funding that has been funded?\n",
    "print('Minimum funding that is given to a startup is: ',startup['AmountInUSD'].dropna().sort_values().min())"
   ]
  },
  {
   "cell_type": "code",
   "execution_count": 41,
   "metadata": {},
   "outputs": [
    {
     "name": "stdout",
     "output_type": "stream",
     "text": [
      "Startups having the lowest amount of funding:\n"
     ]
    },
    {
     "data": {
      "text/plain": [
       "2345       hostel dunia\n",
       "2346    play your sport\n",
       "2347            yo grad\n",
       "2348             enabli\n",
       "2349                cbs\n",
       "Name: StartupName, dtype: object"
      ]
     },
     "execution_count": 41,
     "metadata": {},
     "output_type": "execute_result"
    }
   ],
   "source": [
    "#Which startup/startups have lowest funding?\n",
    "print('Startups having the lowest amount of funding:')\n",
    "startup[startup['AmountInUSD']==16000.0].StartupName"
   ]
  },
  {
   "cell_type": "code",
   "execution_count": 42,
   "metadata": {},
   "outputs": [
    {
     "name": "stdout",
     "output_type": "stream",
     "text": [
      "Average funding that is given to a startup is:  12031073.099016393\n"
     ]
    }
   ],
   "source": [
    "#What is the average fund of a startup?\n",
    "print('Average funding that is given to a startup is: ',startup['AmountInUSD'].dropna().sort_values().mean())"
   ]
  },
  {
   "cell_type": "code",
   "execution_count": 43,
   "metadata": {},
   "outputs": [
    {
     "name": "stdout",
     "output_type": "stream",
     "text": [
      "Number of startups got funded:  1917\n"
     ]
    }
   ],
   "source": [
    "#What are the number of startups that got funded?\n",
    "x=len(startup['StartupName'].unique())\n",
    "print('Number of startups got funded: ',x)"
   ]
  },
  {
   "cell_type": "code",
   "execution_count": 44,
   "metadata": {},
   "outputs": [
    {
     "data": {
      "text/plain": [
       "ola               9\n",
       "swiggy            7\n",
       "urbanclap         6\n",
       "paytm             6\n",
       "holachef          5\n",
       "byju’s            5\n",
       "medinfi           5\n",
       "nobroker          5\n",
       "flipkart          5\n",
       "jugnoo            5\n",
       "lenskart          5\n",
       "cleartax          4\n",
       "healthifyme       4\n",
       "yepme             4\n",
       "lendingkart       4\n",
       "goqii             4\n",
       "niki.ai           4\n",
       "industrybuying    4\n",
       "moglix            4\n",
       "mobikwik          4\n",
       "Name: StartupName, dtype: int64"
      ]
     },
     "execution_count": 44,
     "metadata": {},
     "output_type": "execute_result"
    }
   ],
   "source": [
    "#What are the top 20 startups according to the number of funds?\n",
    "startup['StartupName'].value_counts().sort_values(ascending=False).head(20)"
   ]
  },
  {
   "cell_type": "code",
   "execution_count": 45,
   "metadata": {},
   "outputs": [
    {
     "data": {
      "image/png": "[encoded data removed]",
      "text/plain": [
       "<Figure size 1080x576 with 1 Axes>"
      ]
     },
     "metadata": {
      "needs_background": "light"
     },
     "output_type": "display_data"
    }
   ],
   "source": [
    "#Graph of the top 20 startups according to the number of funds\n",
    "fundings=startup['StartupName'].value_counts().sort_values(ascending=False).head(20)\n",
    "plt.figure(figsize=(15,8))\n",
    "sns.barplot(fundings.index,fundings.values)\n",
    "plt.xticks(rotation='vertical')\n",
    "plt.xlabel('Top Funded Startups', fontsize=12)\n",
    "plt.ylabel('Number of fundings made', fontsize=12)\n",
    "plt.title(\"Fund Distribution\", fontsize=16)\n",
    "plt.show()"
   ]
  },
  {
   "cell_type": "code",
   "execution_count": 46,
   "metadata": {},
   "outputs": [
    {
     "data": {
      "text/plain": [
       "consumer internet    772\n",
       "technology           313\n",
       "ecommerce            230\n",
       "other                171\n",
       "healthcare            31\n",
       "logistics             24\n",
       "food & beverage       21\n",
       "education             20\n",
       "finance                9\n",
       "others                 6\n",
       "Name: IndustryVertical, dtype: int64"
      ]
     },
     "execution_count": 46,
     "metadata": {},
     "output_type": "execute_result"
    }
   ],
   "source": [
    "#What kind of startups are more preferred for funding(top 10)?\n",
    "startup['IndustryVertical'].value_counts().head(10)"
   ]
  },
  {
   "cell_type": "code",
   "execution_count": 47,
   "metadata": {},
   "outputs": [
    {
     "data": {
      "text/plain": [
       "Bangalore    627\n",
       "Mumbai       446\n",
       "New Delhi    381\n",
       "Gurgaon      240\n",
       "Other        179\n",
       "Pune          84\n",
       "Noida         78\n",
       "Hyderabad     76\n",
       "Chennai       66\n",
       "Ahmedabad     35\n",
       "Name: CityLocation, dtype: int64"
      ]
     },
     "execution_count": 47,
     "metadata": {},
     "output_type": "execute_result"
    }
   ],
   "source": [
    "#Does City Location play any importance for being funded?\n",
    "startup['CityLocation'].value_counts().head(10)"
   ]
  },
  {
   "cell_type": "code",
   "execution_count": 48,
   "metadata": {},
   "outputs": [
    {
     "data": {
      "text/plain": [
       "food delivery platform              9\n",
       "online pharmacy                     9\n",
       "online lending platform             9\n",
       "online learning platform            7\n",
       "online food delivery platform       4\n",
       "online payment gateway              4\n",
       "data analytics platform             4\n",
       "ecommerce marketplace               4\n",
       "online test preparation platform    3\n",
       "healthy food delivery platform      3\n",
       "Name: SubVertical, dtype: int64"
      ]
     },
     "execution_count": 48,
     "metadata": {},
     "output_type": "execute_result"
    }
   ],
   "source": [
    "#What subcategories are preferred for funding?\n",
    "startup[startup['SubVertical']!='other'].SubVertical.value_counts().head(10)"
   ]
  },
  {
   "cell_type": "code",
   "execution_count": 49,
   "metadata": {},
   "outputs": [
    {
     "data": {
      "text/plain": [
       "undisclosed investor        93\n",
       "indian angel network        25\n",
       "ratan tata                  24\n",
       "group of angel investors    20\n",
       "kalaari capital             16\n",
       "sequoia capital             14\n",
       "saif partners               11\n",
       "brand capital               10\n",
       "roundglass partners         10\n",
       "accel partners               9\n",
       "Name: InvestorsName, dtype: int64"
      ]
     },
     "execution_count": 49,
     "metadata": {},
     "output_type": "execute_result"
    }
   ],
   "source": [
    "#Who are the top 10 investors?\n",
    "startup['InvestorsName'].value_counts().head(10)"
   ]
  },
  {
   "cell_type": "code",
   "execution_count": 50,
   "metadata": {},
   "outputs": [
    {
     "data": {
      "text/html": [
       "<div>\n",
       "<style scoped>\n",
       "    .dataframe tbody tr th:only-of-type {\n",
       "        vertical-align: middle;\n",
       "    }\n",
       "\n",
       "    .dataframe tbody tr th {\n",
       "        vertical-align: top;\n",
       "    }\n",
       "\n",
       "    .dataframe thead th {\n",
       "        text-align: right;\n",
       "    }\n",
       "</style>\n",
       "<table border=\"1\" class=\"dataframe\">\n",
       "  <thead>\n",
       "    <tr style=\"text-align: right;\">\n",
       "      <th></th>\n",
       "      <th>AmountInUSD</th>\n",
       "    </tr>\n",
       "    <tr>\n",
       "      <th>StartupName</th>\n",
       "      <th></th>\n",
       "    </tr>\n",
       "  </thead>\n",
       "  <tbody>\n",
       "    <tr>\n",
       "      <th>paytm</th>\n",
       "      <td>2.340000e+09</td>\n",
       "    </tr>\n",
       "    <tr>\n",
       "      <th>flipkart</th>\n",
       "      <td>2.259700e+09</td>\n",
       "    </tr>\n",
       "    <tr>\n",
       "      <th>ola</th>\n",
       "      <td>1.899500e+09</td>\n",
       "    </tr>\n",
       "    <tr>\n",
       "      <th>snapdeal</th>\n",
       "      <td>7.000000e+08</td>\n",
       "    </tr>\n",
       "    <tr>\n",
       "      <th>oyo rooms</th>\n",
       "      <td>3.750000e+08</td>\n",
       "    </tr>\n",
       "    <tr>\n",
       "      <th>quikr</th>\n",
       "      <td>2.300000e+08</td>\n",
       "    </tr>\n",
       "    <tr>\n",
       "      <th>delhivery</th>\n",
       "      <td>2.150000e+08</td>\n",
       "    </tr>\n",
       "    <tr>\n",
       "      <th>foodpanda</th>\n",
       "      <td>2.100000e+08</td>\n",
       "    </tr>\n",
       "    <tr>\n",
       "      <th>shopclues</th>\n",
       "      <td>2.077000e+08</td>\n",
       "    </tr>\n",
       "    <tr>\n",
       "      <th>bigbasket</th>\n",
       "      <td>2.070000e+08</td>\n",
       "    </tr>\n",
       "  </tbody>\n",
       "</table>\n",
       "</div>"
      ],
      "text/plain": [
       "              AmountInUSD\n",
       "StartupName              \n",
       "paytm        2.340000e+09\n",
       "flipkart     2.259700e+09\n",
       "ola          1.899500e+09\n",
       "snapdeal     7.000000e+08\n",
       "oyo rooms    3.750000e+08\n",
       "quikr        2.300000e+08\n",
       "delhivery    2.150000e+08\n",
       "foodpanda    2.100000e+08\n",
       "shopclues    2.077000e+08\n",
       "bigbasket    2.070000e+08"
      ]
     },
     "execution_count": 50,
     "metadata": {},
     "output_type": "execute_result"
    }
   ],
   "source": [
    "#What are the top 10 startups according to the amount of funds?\n",
    "top10fund=pd.DataFrame(startup.groupby('StartupName')['AmountInUSD'].sum().sort_values(ascending=False))\n",
    "top10fund.head(10)"
   ]
  },
  {
   "cell_type": "code",
   "execution_count": 51,
   "metadata": {},
   "outputs": [
    {
     "data": {
      "image/png": "[encoded data removed]",
      "text/plain": [
       "<Figure size 1080x576 with 1 Axes>"
      ]
     },
     "metadata": {
      "needs_background": "light"
     },
     "output_type": "display_data"
    }
   ],
   "source": [
    "investors=startup['InvestorsName'].value_counts().head(10)\n",
    "plt.figure(figsize=(15,8))\n",
    "sns.barplot(investors.index, investors.values)\n",
    "plt.xticks(rotation='vertical')\n",
    "plt.xlabel('Investors Names', fontsize=12)\n",
    "plt.ylabel('Number of fundings made', fontsize=12)\n",
    "plt.title(\"Investors names according to number of fundings\", fontsize=16)\n",
    "plt.show()"
   ]
  },
  {
   "cell_type": "code",
   "execution_count": 52,
   "metadata": {},
   "outputs": [
    {
     "data": {
      "text/plain": [
       "seed funding      1271\n",
       "private equity    1066\n",
       "seedfunding         30\n",
       "crowd funding        2\n",
       "privateequity        1\n",
       "debt funding         1\n",
       "not known            1\n",
       "Name: InvestmentType, dtype: int64"
      ]
     },
     "execution_count": 52,
     "metadata": {},
     "output_type": "execute_result"
    }
   ],
   "source": [
    "#What are the types of funding for startups?\n",
    "startup['InvestmentType'].value_counts()"
   ]
  },
  {
   "cell_type": "code",
   "execution_count": 53,
   "metadata": {},
   "outputs": [
    {
     "data": {
      "image/png": "[encoded data removed]",
      "text/plain": [
       "<Figure size 1080x576 with 1 Axes>"
      ]
     },
     "metadata": {
      "needs_background": "light"
     },
     "output_type": "display_data"
    }
   ],
   "source": [
    "#Graph of number of fundings vs investment type\n",
    "investment=startup['InvestmentType'].value_counts().head(10)\n",
    "plt.figure(figsize=(15,8))\n",
    "sns.barplot(investment.index, investment.values)\n",
    "plt.xticks(rotation='vertical')\n",
    "plt.xlabel('Investment Type', fontsize=12)\n",
    "plt.ylabel('Number of fundings made', fontsize=12)\n",
    "plt.title(\"Investment types according to the number of fundings\", fontsize=16)\n",
    "plt.show()"
   ]
  }
 ],
 "metadata": {
  "kernelspec": {
   "display_name": "Python 3",
   "language": "python",
   "name": "python3"
  },
  "language_info": {
   "codemirror_mode": {
    "name": "ipython",
    "version": 3
   },
   "file_extension": ".py",
   "mimetype": "text/x-python",
   "name": "python",
   "nbconvert_exporter": "python",
   "pygments_lexer": "ipython3",
   "version": "3.7.3"
  }
 },
 "nbformat": 4,
 "nbformat_minor": 2
}
